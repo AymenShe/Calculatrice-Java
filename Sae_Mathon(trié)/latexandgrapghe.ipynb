{
 "cells": [
  {
   "cell_type": "code",
   "execution_count": 2,
   "id": "9764ba0d",
   "metadata": {},
   "outputs": [],
   "source": [
    "from matplotlib.pyplot import *\n",
    "from matplotlib import animation\n",
    "from IPython.display import HTML\n",
    "\n",
    "from random import random"
   ]
  },
  {
   "cell_type": "markdown",
   "id": "cbe55a9a",
   "metadata": {},
   "source": [
    "fonction exemple:  \n",
    "f(x)=x+1  \n",
    "f(x)=x²  \n",
    "f(x)=x+x"
   ]
  },
  {
   "cell_type": "code",
   "execution_count": 3,
   "id": "f1515b51",
   "metadata": {},
   "outputs": [
    {
     "data": {
      "image/png": "[encoded data removed]",
      "text/plain": [
       "<Figure size 432x288 with 1 Axes>"
      ]
     },
     "metadata": {
      "needs_background": "light"
     },
     "output_type": "display_data"
    }
   ],
   "source": [
    "xlim(-10, 10)\n",
    "ylim(-10, 10)\n",
    "\n",
    "n=5\n",
    "\n",
    "def abscisse(X) : \n",
    "    try : \n",
    "        x=float(X[0])\n",
    "        y=float(X[1])\n",
    "    except : \n",
    "        return None\n",
    "    return x\n",
    "\n",
    "def ordonnee(X) : \n",
    "    try : \n",
    "        x=float(X[0])\n",
    "        y=float(X[1])\n",
    "    except : \n",
    "        return None\n",
    "    return y\n",
    "\"\"\"\n",
    "def pointAleatoire(a=-10, b=10) :\n",
    "    #On test que les paramètres sont bien des nombres\n",
    "    try : \n",
    "        a=float(a)\n",
    "        b=float(b)\n",
    "    except : #Si il y a un problème avec les deux lignes précédentes on renvoie un point entre -10 et 10\n",
    "        return pointAleatoire()\n",
    "    \n",
    "    #Si les paramètres ne sont pas dans le bon sens, on les inverse\n",
    "    if(a>b) : return pointAleatoire(b, a)\n",
    "    return [a+(b-a)*random(), a+(b-a)*random()]\n",
    "\"\"\"\n",
    "\n",
    "def pointGraphe(a=-10, b=10):\n",
    "    try :\n",
    "        a=float(a)\n",
    "        b=float(b)\n",
    "    except : #Si il y a un problème avec les deux lignes précédentes on renvoie un point entre -10 et 10\n",
    "        return pointGraphe()\n",
    "\n",
    "    if(a>b) : return pointGraphe()\n",
    "    return [5, 5]\n",
    "\n",
    "x=0\n",
    "y=0\n",
    "for i in range(n) : \n",
    "    P = [x,y]\n",
    "    plot([abscisse(P)], [ordonnee(P)], 'r.', lw=3)\n",
    "    x+=1\n",
    "    y+=1\n",
    "\n",
    "grid(True)\n",
    "title(\"Placement de \"+str(n)+\" points tirés au hasard\")\n",
    "show()"
   ]
  },
  {
   "cell_type": "code",
   "execution_count": null,
   "id": "0ef2eb3d",
   "metadata": {},
   "outputs": [],
   "source": []
  },
  {
   "cell_type": "code",
   "execution_count": 4,
   "id": "62c715d2",
   "metadata": {},
   "outputs": [],
   "source": [
    "def coordonneesDroite(droite, xmin=-10, xmax=10) : \n",
    "    try : \n",
    "        a=droite[0]\n",
    "        b=droite[1]\n",
    "        c=droite[2]\n",
    "    except : \n",
    "        return None, None\n",
    "    \n",
    "    if(a==0 and b==0) : return None, None\n",
    "    if(b==0) : return [c/a, c/a], [xmin, xmax]\n",
    "    return [xmin, xmax], [(c-a*xmin)/b, (c-a*xmax)/b]\n"
   ]
  },
  {
   "cell_type": "code",
   "execution_count": 5,
   "id": "360606dd",
   "metadata": {},
   "outputs": [
    {
     "data": {
      "image/png": "[encoded data removed]",
      "text/plain": [
       "<Figure size 432x288 with 1 Axes>"
      ]
     },
     "metadata": {
      "needs_background": "light"
     },
     "output_type": "display_data"
    }
   ],
   "source": [
    "D=[\n",
    "    [1,0,10],\n",
    "    [1, 0, 1],\n",
    "    [0, 1, 0],\n",
    "    [0, 1, 1],\n",
    "\n",
    "\n",
    "]\n",
    "for d in D : \n",
    "    X, Y=coordonneesDroite(d)\n",
    "    if(X!=None and Y!=None) : plot(X, Y, label=str(d))\n",
    "\n",
    "legend()\n",
    "show()\n"
   ]
  },
  {
   "cell_type": "code",
   "execution_count": 6,
   "id": "005b1a0b",
   "metadata": {},
   "outputs": [
    {
     "data": {
      "image/png": "[encoded data removed]",
      "text/plain": [
       "<Figure size 432x288 with 1 Axes>"
      ]
     },
     "metadata": {
      "needs_background": "light"
     },
     "output_type": "display_data"
    }
   ],
   "source": [
    "#Nombre de point\n",
    "n=100\n",
    "\n",
    "#Intervalle\n",
    "a=-10\n",
    "b=10\n",
    "\n",
    "#Abscisses\n",
    "X=[a+(b-a)/n*k for k in range(n+1)]\n",
    "X1=[x for x in X if(x>0)]\n",
    "X2=[x for x in X if(x<0)]\n",
    "\n",
    "#Ordonnées\n",
    "Y1=[x+3-x*2 for x in X1]\n",
    "Y2=[x+3-x*2 for x in X2]\n",
    "\n",
    "#Quadrillage\n",
    "grid(True)\n",
    "\n",
    "#Axes du repère\n",
    "plot([a, b], [0, 0], 'r', lw=1)\n",
    "plot([0, 0], [min(Y2), max(Y1)], 'r', lw=1)\n",
    "\n",
    "#Hyperbole\n",
    "plot(X1, Y1, 'b', lw=2)\n",
    "plot(X2, Y2, 'b', lw=2)\n",
    "\n",
    "#Titre\n",
    "title(\"les x*x\")\n",
    "\n",
    "#Affichage\n",
    "show()\n"
   ]
  },
  {
   "cell_type": "code",
   "execution_count": null,
   "id": "2be93929",
   "metadata": {},
   "outputs": [],
   "source": []
  }
 ],
 "metadata": {
  "kernelspec": {
   "display_name": "Python 3 (ipykernel)",
   "language": "python",
   "name": "python3"
  },
  "language_info": {
   "codemirror_mode": {
    "name": "ipython",
    "version": 3
   },
   "file_extension": ".py",
   "mimetype": "text/x-python",
   "name": "python",
   "nbconvert_exporter": "python",
   "pygments_lexer": "ipython3",
   "version": "3.9.12"
  }
 },
 "nbformat": 4,
 "nbformat_minor": 5
}
